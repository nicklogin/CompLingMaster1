{
  "nbformat": 4,
  "nbformat_minor": 0,
  "metadata": {
    "kernelspec": {
      "display_name": "Python 3",
      "language": "python",
      "name": "python3"
    },
    "language_info": {
      "codemirror_mode": {
        "name": "ipython",
        "version": 3
      },
      "file_extension": ".py",
      "mimetype": "text/x-python",
      "name": "python",
      "nbconvert_exporter": "python",
      "pygments_lexer": "ipython3",
      "version": "3.6.5"
    },
    "colab": {
      "name": "WSD_WSI.ipynb",
      "provenance": [],
      "collapsed_sections": [
        "Ea_rNxW0O5TS"
      ]
    },
    "widgets": {
      "application/vnd.jupyter.widget-state+json": {
        "b445d5b2931a470ea01abc624f9ce290": {
          "model_module": "@jupyter-widgets/controls",
          "model_name": "HBoxModel",
          "state": {
            "_view_name": "HBoxView",
            "_dom_classes": [],
            "_model_name": "HBoxModel",
            "_view_module": "@jupyter-widgets/controls",
            "_model_module_version": "1.5.0",
            "_view_count": null,
            "_view_module_version": "1.5.0",
            "box_style": "",
            "layout": "IPY_MODEL_82b2fe49b89a428f9521f4b12dfab11b",
            "_model_module": "@jupyter-widgets/controls",
            "children": [
              "IPY_MODEL_b9ee84d0ac7f40768b9a6216b99aebf4",
              "IPY_MODEL_44ec6fdbe1ce456c9728d311437264c8"
            ]
          }
        },
        "82b2fe49b89a428f9521f4b12dfab11b": {
          "model_module": "@jupyter-widgets/base",
          "model_name": "LayoutModel",
          "state": {
            "_view_name": "LayoutView",
            "grid_template_rows": null,
            "right": null,
            "justify_content": null,
            "_view_module": "@jupyter-widgets/base",
            "overflow": null,
            "_model_module_version": "1.2.0",
            "_view_count": null,
            "flex_flow": null,
            "width": null,
            "min_width": null,
            "border": null,
            "align_items": null,
            "bottom": null,
            "_model_module": "@jupyter-widgets/base",
            "top": null,
            "grid_column": null,
            "overflow_y": null,
            "overflow_x": null,
            "grid_auto_flow": null,
            "grid_area": null,
            "grid_template_columns": null,
            "flex": null,
            "_model_name": "LayoutModel",
            "justify_items": null,
            "grid_row": null,
            "max_height": null,
            "align_content": null,
            "visibility": null,
            "align_self": null,
            "height": null,
            "min_height": null,
            "padding": null,
            "grid_auto_rows": null,
            "grid_gap": null,
            "max_width": null,
            "order": null,
            "_view_module_version": "1.2.0",
            "grid_template_areas": null,
            "object_position": null,
            "object_fit": null,
            "grid_auto_columns": null,
            "margin": null,
            "display": null,
            "left": null
          }
        },
        "b9ee84d0ac7f40768b9a6216b99aebf4": {
          "model_module": "@jupyter-widgets/controls",
          "model_name": "FloatProgressModel",
          "state": {
            "_view_name": "ProgressView",
            "style": "IPY_MODEL_4f4205a4709147e7b5cea0a0382f5c69",
            "_dom_classes": [],
            "description": "100%",
            "_model_name": "FloatProgressModel",
            "bar_style": "success",
            "max": 49453,
            "_view_module": "@jupyter-widgets/controls",
            "_model_module_version": "1.5.0",
            "value": 49453,
            "_view_count": null,
            "_view_module_version": "1.5.0",
            "orientation": "horizontal",
            "min": 0,
            "description_tooltip": null,
            "_model_module": "@jupyter-widgets/controls",
            "layout": "IPY_MODEL_e232dbe7b30c4a05b19b253bd93430f5"
          }
        },
        "44ec6fdbe1ce456c9728d311437264c8": {
          "model_module": "@jupyter-widgets/controls",
          "model_name": "HTMLModel",
          "state": {
            "_view_name": "HTMLView",
            "style": "IPY_MODEL_b84bdc87208a4d588942626bb4f7b6c2",
            "_dom_classes": [],
            "description": "",
            "_model_name": "HTMLModel",
            "placeholder": "​",
            "_view_module": "@jupyter-widgets/controls",
            "_model_module_version": "1.5.0",
            "value": " 49453/49453 [02:07&lt;00:00, 387.64it/s]",
            "_view_count": null,
            "_view_module_version": "1.5.0",
            "description_tooltip": null,
            "_model_module": "@jupyter-widgets/controls",
            "layout": "IPY_MODEL_c63c30900b6745f0b1127149730a2a01"
          }
        },
        "4f4205a4709147e7b5cea0a0382f5c69": {
          "model_module": "@jupyter-widgets/controls",
          "model_name": "ProgressStyleModel",
          "state": {
            "_view_name": "StyleView",
            "_model_name": "ProgressStyleModel",
            "description_width": "initial",
            "_view_module": "@jupyter-widgets/base",
            "_model_module_version": "1.5.0",
            "_view_count": null,
            "_view_module_version": "1.2.0",
            "bar_color": null,
            "_model_module": "@jupyter-widgets/controls"
          }
        },
        "e232dbe7b30c4a05b19b253bd93430f5": {
          "model_module": "@jupyter-widgets/base",
          "model_name": "LayoutModel",
          "state": {
            "_view_name": "LayoutView",
            "grid_template_rows": null,
            "right": null,
            "justify_content": null,
            "_view_module": "@jupyter-widgets/base",
            "overflow": null,
            "_model_module_version": "1.2.0",
            "_view_count": null,
            "flex_flow": null,
            "width": null,
            "min_width": null,
            "border": null,
            "align_items": null,
            "bottom": null,
            "_model_module": "@jupyter-widgets/base",
            "top": null,
            "grid_column": null,
            "overflow_y": null,
            "overflow_x": null,
            "grid_auto_flow": null,
            "grid_area": null,
            "grid_template_columns": null,
            "flex": null,
            "_model_name": "LayoutModel",
            "justify_items": null,
            "grid_row": null,
            "max_height": null,
            "align_content": null,
            "visibility": null,
            "align_self": null,
            "height": null,
            "min_height": null,
            "padding": null,
            "grid_auto_rows": null,
            "grid_gap": null,
            "max_width": null,
            "order": null,
            "_view_module_version": "1.2.0",
            "grid_template_areas": null,
            "object_position": null,
            "object_fit": null,
            "grid_auto_columns": null,
            "margin": null,
            "display": null,
            "left": null
          }
        },
        "b84bdc87208a4d588942626bb4f7b6c2": {
          "model_module": "@jupyter-widgets/controls",
          "model_name": "DescriptionStyleModel",
          "state": {
            "_view_name": "StyleView",
            "_model_name": "DescriptionStyleModel",
            "description_width": "",
            "_view_module": "@jupyter-widgets/base",
            "_model_module_version": "1.5.0",
            "_view_count": null,
            "_view_module_version": "1.2.0",
            "_model_module": "@jupyter-widgets/controls"
          }
        },
        "c63c30900b6745f0b1127149730a2a01": {
          "model_module": "@jupyter-widgets/base",
          "model_name": "LayoutModel",
          "state": {
            "_view_name": "LayoutView",
            "grid_template_rows": null,
            "right": null,
            "justify_content": null,
            "_view_module": "@jupyter-widgets/base",
            "overflow": null,
            "_model_module_version": "1.2.0",
            "_view_count": null,
            "flex_flow": null,
            "width": null,
            "min_width": null,
            "border": null,
            "align_items": null,
            "bottom": null,
            "_model_module": "@jupyter-widgets/base",
            "top": null,
            "grid_column": null,
            "overflow_y": null,
            "overflow_x": null,
            "grid_auto_flow": null,
            "grid_area": null,
            "grid_template_columns": null,
            "flex": null,
            "_model_name": "LayoutModel",
            "justify_items": null,
            "grid_row": null,
            "max_height": null,
            "align_content": null,
            "visibility": null,
            "align_self": null,
            "height": null,
            "min_height": null,
            "padding": null,
            "grid_auto_rows": null,
            "grid_gap": null,
            "max_width": null,
            "order": null,
            "_view_module_version": "1.2.0",
            "grid_template_areas": null,
            "object_position": null,
            "object_fit": null,
            "grid_auto_columns": null,
            "margin": null,
            "display": null,
            "left": null
          }
        }
      }
    }
  },
  "cells": [
    {
      "cell_type": "markdown",
      "metadata": {
        "id": "jGFr_5vhO5S2"
      },
      "source": [
        "# Word Sense Disambiguation (снятие лексической неоднозначности) и Word Sense Induction (нахождение значений слова)"
      ]
    },
    {
      "cell_type": "code",
      "metadata": {
        "id": "XCVY2hMUO7wV",
        "colab": {
          "base_uri": "https://localhost:8080/"
        },
        "outputId": "b20a62e8-921d-4d57-a217-e34e0495bcd1"
      },
      "source": [
        "!wget https://github.com/mannefedov/compling_nlp_hse_course/blob/master/data/wiki_data.txt.zip?raw=true\r\n",
        "!wget https://github.com/mannefedov/compling_nlp_hse_course/blob/master/data/corpus_wsd_50k.txt.zip?raw=true\r\n",
        "!unzip wiki_data.txt.zip?raw=true\r\n",
        "!unzip corpus_wsd_50k.txt.zip?raw=true\r\n",
        "\r\n",
        "import os\r\n",
        "os.listdir()"
      ],
      "execution_count": null,
      "outputs": [
        {
          "output_type": "stream",
          "text": [
            "--2021-03-13 15:45:43--  https://github.com/mannefedov/compling_nlp_hse_course/blob/master/data/wiki_data.txt.zip?raw=true\n",
            "Resolving github.com (github.com)... 52.69.186.44\n",
            "Connecting to github.com (github.com)|52.69.186.44|:443... connected.\n",
            "HTTP request sent, awaiting response... 302 Found\n",
            "Location: https://github.com/mannefedov/compling_nlp_hse_course/raw/master/data/wiki_data.txt.zip [following]\n",
            "--2021-03-13 15:45:43--  https://github.com/mannefedov/compling_nlp_hse_course/raw/master/data/wiki_data.txt.zip\n",
            "Reusing existing connection to github.com:443.\n",
            "HTTP request sent, awaiting response... 302 Found\n",
            "Location: https://raw.githubusercontent.com/mannefedov/compling_nlp_hse_course/master/data/wiki_data.txt.zip [following]\n",
            "--2021-03-13 15:45:43--  https://raw.githubusercontent.com/mannefedov/compling_nlp_hse_course/master/data/wiki_data.txt.zip\n",
            "Resolving raw.githubusercontent.com (raw.githubusercontent.com)... 185.199.108.133, 185.199.109.133, 185.199.110.133, ...\n",
            "Connecting to raw.githubusercontent.com (raw.githubusercontent.com)|185.199.108.133|:443... connected.\n",
            "HTTP request sent, awaiting response... 200 OK\n",
            "Length: 18709143 (18M) [application/zip]\n",
            "Saving to: ‘wiki_data.txt.zip?raw=true.1’\n",
            "\n",
            "wiki_data.txt.zip?r 100%[===================>]  17.84M  54.6MB/s    in 0.3s    \n",
            "\n",
            "2021-03-13 15:45:43 (54.6 MB/s) - ‘wiki_data.txt.zip?raw=true.1’ saved [18709143/18709143]\n",
            "\n",
            "--2021-03-13 15:45:43--  https://github.com/mannefedov/compling_nlp_hse_course/blob/master/data/corpus_wsd_50k.txt.zip?raw=true\n",
            "Resolving github.com (github.com)... 13.114.40.48\n",
            "Connecting to github.com (github.com)|13.114.40.48|:443... connected.\n",
            "HTTP request sent, awaiting response... 302 Found\n",
            "Location: https://github.com/mannefedov/compling_nlp_hse_course/raw/master/data/corpus_wsd_50k.txt.zip [following]\n",
            "--2021-03-13 15:45:44--  https://github.com/mannefedov/compling_nlp_hse_course/raw/master/data/corpus_wsd_50k.txt.zip\n",
            "Reusing existing connection to github.com:443.\n",
            "HTTP request sent, awaiting response... 302 Found\n",
            "Location: https://raw.githubusercontent.com/mannefedov/compling_nlp_hse_course/master/data/corpus_wsd_50k.txt.zip [following]\n",
            "--2021-03-13 15:45:44--  https://raw.githubusercontent.com/mannefedov/compling_nlp_hse_course/master/data/corpus_wsd_50k.txt.zip\n",
            "Resolving raw.githubusercontent.com (raw.githubusercontent.com)... 185.199.111.133, 185.199.110.133, 185.199.109.133, ...\n",
            "Connecting to raw.githubusercontent.com (raw.githubusercontent.com)|185.199.111.133|:443... connected.\n",
            "HTTP request sent, awaiting response... 200 OK\n",
            "Length: 4723095 (4.5M) [application/zip]\n",
            "Saving to: ‘corpus_wsd_50k.txt.zip?raw=true.1’\n",
            "\n",
            "corpus_wsd_50k.txt. 100%[===================>]   4.50M  26.2MB/s    in 0.2s    \n",
            "\n",
            "2021-03-13 15:45:44 (26.2 MB/s) - ‘corpus_wsd_50k.txt.zip?raw=true.1’ saved [4723095/4723095]\n",
            "\n",
            "Archive:  wiki_data.txt.zip?raw=true\n",
            "  inflating: wiki_data.txt           \n",
            "  inflating: __MACOSX/._wiki_data.txt  \n",
            "Archive:  corpus_wsd_50k.txt.zip?raw=true\n",
            "  inflating: corpus_wsd_50k.txt      \n",
            "  inflating: __MACOSX/._corpus_wsd_50k.txt  \n"
          ],
          "name": "stdout"
        },
        {
          "output_type": "execute_result",
          "data": {
            "text/plain": [
              "['.config',\n",
              " 'corpus_wsd_50k.txt.zip?raw=true.1',\n",
              " 'wiki_data.txt.zip?raw=true',\n",
              " 'wiki_data.txt',\n",
              " 'wiki_data.txt.zip?raw=true.1',\n",
              " 'corpus_wsd_50k.txt.zip?raw=true',\n",
              " 'url?q=https:%2F%2Fgithub.com%2Fmannefedov%2Fcompling_nlp_hse_course%2Fblob%2Fmaster%2Fdata%2Fcorpus_wsd_50k.txt.zip',\n",
              " 'url?q=https:%2F%2Fgithub.com%2Fmannefedov%2Fcompling_nlp_hse_course%2Fblob%2Fmaster%2Fdata%2Fwiki_data.txt.zip',\n",
              " 'corpus_wsd_50k.txt',\n",
              " '__MACOSX',\n",
              " 'sample_data']"
            ]
          },
          "metadata": {
            "tags": []
          },
          "execution_count": 1
        }
      ]
    },
    {
      "cell_type": "markdown",
      "metadata": {
        "id": "tHWkvowGO5S3"
      },
      "source": [
        "WSD и WSI  - это связанные задачи про определение значений, в которых употребляются слова. WSI занимается определением возможных значений слова, а WSD нужна для того, чтобы определить, в каком из имеющихся значений слово употреблено в тексте. \n",
        "\n",
        "На прошлых занятиях мы вообще закрывали глаза на то, что у слов может быть несколько значений, т.к. в целом это не такая уж серьезная проблема. Однако в некоторых практических задачах учёт многозначности может сильно помочь (например, в поиске результат будет отличаться для запросов \"гоголь фильм\" и \"гоголь писатель\")"
      ]
    },
    {
      "cell_type": "markdown",
      "metadata": {
        "id": "snfbDy67O5S4"
      },
      "source": [
        "Основное предположение, на котором строятся все модели для снятия и определения неоднозначности - значение определяется в контексте (отличие от эмбедингов в том, что тут имеется в виду конкретный контекст и конкретное значение, а не набор всех контекстов и общее значение=смысл слова). Т.к контекст может включать в себя невероятного много всего (от 1 соседнего слова до актуальных мемов), решить задачу полностью пока нельзя и это, наверное, сложная и интересная тема для исследований. Про sota в этой области можно почитать вот тут - http://nlpprogress.com/english/word_sense_disambiguation.html  \n",
        "Но в рамках семинара давайте посмотрим, какие есть уже готовые инструменты или простые алгоритмы для работы с многозначностью."
      ]
    },
    {
      "cell_type": "code",
      "metadata": {
        "id": "JfGUdlL3RA-i",
        "colab": {
          "base_uri": "https://localhost:8080/"
        },
        "outputId": "2734b213-9955-4fe4-f540-64c4923abc41"
      },
      "source": [
        "!pip install pymorphy2\r\n",
        "!pip install razdel"
      ],
      "execution_count": null,
      "outputs": [
        {
          "output_type": "stream",
          "text": [
            "Requirement already satisfied: pymorphy2 in /usr/local/lib/python3.7/dist-packages (0.9.1)\n",
            "Requirement already satisfied: docopt>=0.6 in /usr/local/lib/python3.7/dist-packages (from pymorphy2) (0.6.2)\n",
            "Requirement already satisfied: dawg-python>=0.7.1 in /usr/local/lib/python3.7/dist-packages (from pymorphy2) (0.7.2)\n",
            "Requirement already satisfied: pymorphy2-dicts-ru<3.0,>=2.4 in /usr/local/lib/python3.7/dist-packages (from pymorphy2) (2.4.417127.4579844)\n",
            "Requirement already satisfied: razdel in /usr/local/lib/python3.7/dist-packages (0.5.0)\n"
          ],
          "name": "stdout"
        }
      ]
    },
    {
      "cell_type": "code",
      "metadata": {
        "id": "Ov0xovIsRnIL",
        "colab": {
          "base_uri": "https://localhost:8080/"
        },
        "outputId": "21ef46d0-47dd-4373-b749-5990f0a62963"
      },
      "source": [
        "import nltk\r\n",
        "nltk.download('stopwords')\r\n",
        "nltk.download('punkt')"
      ],
      "execution_count": null,
      "outputs": [
        {
          "output_type": "stream",
          "text": [
            "[nltk_data] Downloading package stopwords to /root/nltk_data...\n",
            "[nltk_data]   Package stopwords is already up-to-date!\n",
            "[nltk_data] Downloading package punkt to /root/nltk_data...\n",
            "[nltk_data]   Unzipping tokenizers/punkt.zip.\n"
          ],
          "name": "stdout"
        },
        {
          "output_type": "execute_result",
          "data": {
            "text/plain": [
              "True"
            ]
          },
          "metadata": {
            "tags": []
          },
          "execution_count": 51
        }
      ]
    },
    {
      "cell_type": "markdown",
      "metadata": {
        "id": "19_nsX60O5S4"
      },
      "source": [
        "А сейчас попробуем Адаграм!"
      ]
    },
    {
      "cell_type": "code",
      "metadata": {
        "id": "thPe3xlrO5S4"
      },
      "source": [
        "from lxml import html\n",
        "from nltk.tokenize import word_tokenize\n",
        "from nltk.corpus import stopwords\n",
        "from nltk.corpus import wordnet as wn\n",
        "from pymorphy2 import MorphAnalyzer\n",
        "from string import punctuation\n",
        "import json, os, re, sys\n",
        "from collections import Counter\n",
        "import numpy as np\n",
        "from razdel import tokenize as razdel_tokenize\n",
        "from matplotlib import pyplot as plt\n",
        "import gensim\n",
        "import pandas as pd\n",
        "from sklearn.metrics import adjusted_rand_score\n",
        "import tqdm\n",
        "from sklearn.metrics import f1_score\n",
        "from sklearn.ensemble import RandomForestClassifier\n",
        "from sklearn.linear_model import LogisticRegression\n",
        "from sklearn.model_selection import train_test_split\n",
        "from sklearn.metrics import classification_report\n",
        "from sklearn.model_selection import KFold\n",
        "from collections import Counter\n",
        "\n",
        "\n",
        "%matplotlib inline\n",
        "import warnings\n",
        "warnings.filterwarnings('ignore')\n",
        "morph = MorphAnalyzer()\n",
        "punct = punctuation+'«»—…“”*№–'\n",
        "stops = set(stopwords.words('russian'))\n",
        "\n",
        "def normalize(text):\n",
        "    \n",
        "    words = [token.text.strip(punct) for token in list(razdel_tokenize(text))]\n",
        "    words = [morph.parse(word)[0].normal_form for word in words if word and word not in stops]\n",
        "\n",
        "    return words\n"
      ],
      "execution_count": null,
      "outputs": []
    },
    {
      "cell_type": "markdown",
      "metadata": {
        "id": "nvSbUvMbO5TH"
      },
      "source": [
        "## WordNet"
      ]
    },
    {
      "cell_type": "markdown",
      "metadata": {
        "id": "MYW1tfROO5TI"
      },
      "source": [
        "Выводить значения просто из текста тяжело, поэтому можно попробовать воспользоваться словарями (wsi сделанное людьми). Для русского придется парсить сайты словарей, а для английского можно воспользоваться WordNet'ом (https://wordnet.princeton.edu/), который есть в nltk."
      ]
    },
    {
      "cell_type": "markdown",
      "metadata": {
        "id": "CPzooCeQO5TI"
      },
      "source": [
        "WordNet - это лексическая база данных, где существительные, прилагательные и глаголы английского сгруппированы по значению. К тому же между ними установлены связи (гипонимия, гипоронимия, миронимия и т.п.)."
      ]
    },
    {
      "cell_type": "code",
      "metadata": {
        "id": "W4wT65AaO5TI",
        "colab": {
          "base_uri": "https://localhost:8080/"
        },
        "outputId": "21b4b209-7fd1-4bb4-e8ee-66464ab16865"
      },
      "source": [
        "# запустите если не установлен ворднет\n",
        "import nltk\n",
        "nltk.download('wordnet')"
      ],
      "execution_count": null,
      "outputs": [
        {
          "output_type": "stream",
          "text": [
            "[nltk_data] Downloading package wordnet to /root/nltk_data...\n",
            "[nltk_data]   Unzipping corpora/wordnet.zip.\n"
          ],
          "name": "stdout"
        },
        {
          "output_type": "execute_result",
          "data": {
            "text/plain": [
              "True"
            ]
          },
          "metadata": {
            "tags": []
          },
          "execution_count": 15
        }
      ]
    },
    {
      "cell_type": "markdown",
      "metadata": {
        "id": "lTC6Or-rO5TI"
      },
      "source": [
        "Группа синонимичных слов в WordNet'е называются синсеты. "
      ]
    },
    {
      "cell_type": "code",
      "metadata": {
        "id": "wPpGxfWlO5TJ",
        "colab": {
          "base_uri": "https://localhost:8080/"
        },
        "outputId": "32071b61-6bb4-4d3d-b429-ef73d2cda595"
      },
      "source": [
        "# всего синсетов\n",
        "len(list(wn.all_synsets()))"
      ],
      "execution_count": null,
      "outputs": [
        {
          "output_type": "execute_result",
          "data": {
            "text/plain": [
              "117659"
            ]
          },
          "metadata": {
            "tags": []
          },
          "execution_count": 16
        }
      ]
    },
    {
      "cell_type": "markdown",
      "metadata": {
        "id": "FM80iySyO5TJ"
      },
      "source": [
        "Из них существительных:"
      ]
    },
    {
      "cell_type": "code",
      "metadata": {
        "id": "VrwiI7zQO5TJ",
        "colab": {
          "base_uri": "https://localhost:8080/"
        },
        "outputId": "ea875f26-292b-4762-ddb7-8f8426395b00"
      },
      "source": [
        "len(list(wn.all_synsets('n')))"
      ],
      "execution_count": null,
      "outputs": [
        {
          "output_type": "execute_result",
          "data": {
            "text/plain": [
              "82115"
            ]
          },
          "metadata": {
            "tags": []
          },
          "execution_count": 17
        }
      ]
    },
    {
      "cell_type": "markdown",
      "metadata": {
        "id": "qoZKaAvXO5TK"
      },
      "source": [
        "А глаголов:"
      ]
    },
    {
      "cell_type": "code",
      "metadata": {
        "id": "gW5LUkqDO5TK",
        "colab": {
          "base_uri": "https://localhost:8080/"
        },
        "outputId": "a0cb0159-2e58-4a99-9517-f665e5b98c2f"
      },
      "source": [
        "len(list(wn.all_synsets('v')))"
      ],
      "execution_count": null,
      "outputs": [
        {
          "output_type": "execute_result",
          "data": {
            "text/plain": [
              "13767"
            ]
          },
          "metadata": {
            "tags": []
          },
          "execution_count": 18
        }
      ]
    },
    {
      "cell_type": "markdown",
      "metadata": {
        "id": "rWko4NMLO5TK"
      },
      "source": [
        "А прилагательных:"
      ]
    },
    {
      "cell_type": "code",
      "metadata": {
        "id": "zJXt8xi8O5TK",
        "colab": {
          "base_uri": "https://localhost:8080/"
        },
        "outputId": "a897f75b-4f0a-4410-b15c-b738422d26b8"
      },
      "source": [
        "len(list(wn.all_synsets('a')))"
      ],
      "execution_count": null,
      "outputs": [
        {
          "output_type": "execute_result",
          "data": {
            "text/plain": [
              "18156"
            ]
          },
          "metadata": {
            "tags": []
          },
          "execution_count": 20
        }
      ]
    },
    {
      "cell_type": "markdown",
      "metadata": {
        "id": "NapSjAb2O5TK"
      },
      "source": [
        "Синсеты для слова можно достать вот так:"
      ]
    },
    {
      "cell_type": "code",
      "metadata": {
        "id": "T8lol6S1O5TK",
        "colab": {
          "base_uri": "https://localhost:8080/"
        },
        "outputId": "ff2aaf05-621a-4114-ddc3-6cd0e0d985f3"
      },
      "source": [
        "wn.synsets('car')"
      ],
      "execution_count": null,
      "outputs": [
        {
          "output_type": "execute_result",
          "data": {
            "text/plain": [
              "[Synset('car.n.01'),\n",
              " Synset('car.n.02'),\n",
              " Synset('car.n.03'),\n",
              " Synset('car.n.04'),\n",
              " Synset('cable_car.n.01')]"
            ]
          },
          "metadata": {
            "tags": []
          },
          "execution_count": 21
        }
      ]
    },
    {
      "cell_type": "markdown",
      "metadata": {
        "id": "Rzc69VscO5TL"
      },
      "source": [
        "Можно ограничить часть речи:"
      ]
    },
    {
      "cell_type": "code",
      "metadata": {
        "id": "CH3RAHlXO5TL",
        "colab": {
          "base_uri": "https://localhost:8080/"
        },
        "outputId": "35844441-3a7b-4f40-bbb1-b51b4c620f6c"
      },
      "source": [
        "wn.synsets('go', pos='v')"
      ],
      "execution_count": null,
      "outputs": [
        {
          "output_type": "execute_result",
          "data": {
            "text/plain": [
              "[Synset('travel.v.01'),\n",
              " Synset('go.v.02'),\n",
              " Synset('go.v.03'),\n",
              " Synset('become.v.01'),\n",
              " Synset('go.v.05'),\n",
              " Synset('run.v.05'),\n",
              " Synset('run.v.03'),\n",
              " Synset('proceed.v.04'),\n",
              " Synset('go.v.09'),\n",
              " Synset('go.v.10'),\n",
              " Synset('sound.v.02'),\n",
              " Synset('function.v.01'),\n",
              " Synset('run_low.v.01'),\n",
              " Synset('move.v.13'),\n",
              " Synset('survive.v.01'),\n",
              " Synset('go.v.16'),\n",
              " Synset('die.v.01'),\n",
              " Synset('belong.v.03'),\n",
              " Synset('go.v.19'),\n",
              " Synset('start.v.09'),\n",
              " Synset('move.v.15'),\n",
              " Synset('go.v.22'),\n",
              " Synset('go.v.23'),\n",
              " Synset('blend.v.02'),\n",
              " Synset('go.v.25'),\n",
              " Synset('fit.v.02'),\n",
              " Synset('rifle.v.02'),\n",
              " Synset('go.v.28'),\n",
              " Synset('plump.v.04'),\n",
              " Synset('fail.v.04')]"
            ]
          },
          "metadata": {
            "tags": []
          },
          "execution_count": 22
        }
      ]
    },
    {
      "cell_type": "markdown",
      "metadata": {
        "id": "WGlkK_rRO5TL"
      },
      "source": [
        "У многих из них есть определения:"
      ]
    },
    {
      "cell_type": "code",
      "metadata": {
        "id": "taW4cRIPO5TL",
        "colab": {
          "base_uri": "https://localhost:8080/"
        },
        "outputId": "73ab2b76-9547-437c-8672-cb2a2ead4324"
      },
      "source": [
        "word = 'day'\n",
        "for synset in wn.synsets(word):\n",
        "    print(word + ' - ' + synset.definition())\n",
        "#     print()"
      ],
      "execution_count": null,
      "outputs": [
        {
          "output_type": "stream",
          "text": [
            "day - time for Earth to make a complete rotation on its axis\n",
            "day - some point or period in time\n",
            "day - a day assigned to a particular purpose or observance\n",
            "day - the time after sunrise and before sunset while it is light outside\n",
            "day - the recurring hours when you are not sleeping (especially those when you are working)\n",
            "day - an era of existence or influence\n",
            "day - the period of time taken by a particular planet (e.g. Mars) to make a complete rotation on its axis\n",
            "day - the time for one complete rotation of the earth relative to a particular star, about 4 minutes shorter than a mean solar day\n",
            "day - a period of opportunity\n",
            "day - United States writer best known for his autobiographical works (1874-1935)\n"
          ],
          "name": "stdout"
        }
      ]
    },
    {
      "cell_type": "markdown",
      "metadata": {
        "id": "MzvUHcEfO5TL"
      },
      "source": [
        "И даже примеры:"
      ]
    },
    {
      "cell_type": "code",
      "metadata": {
        "id": "uD-NE_m7O5TM",
        "colab": {
          "base_uri": "https://localhost:8080/"
        },
        "outputId": "870b420d-579e-4c8d-e706-fd86a5fdf619"
      },
      "source": [
        "word = 'day'\n",
        "for synset in wn.synsets(word):\n",
        "    print(word + ' - ' + ' | '.join(synset.examples()))\n",
        "#     print()"
      ],
      "execution_count": null,
      "outputs": [
        {
          "output_type": "stream",
          "text": [
            "day - two days later they left | they put on two performances every day | there are 30,000 passengers per day\n",
            "day - it should arrive any day now | after that day she never trusted him again | those were the days | these days it is not unusual\n",
            "day - Mother's Day\n",
            "day - the dawn turned night into day | it is easier to make the repairs in the daytime\n",
            "day - my day began early this morning | it was a busy day on the stock exchange | she called it a day and went to bed\n",
            "day - in the day of the dinosaurs | in the days of the Roman Empire | in the days of sailing ships | he was a successful pianist in his day\n",
            "day - how long is a day on Jupiter?\n",
            "day - \n",
            "day - he deserves his day in court | every dog has his day\n",
            "day - \n"
          ],
          "name": "stdout"
        }
      ]
    },
    {
      "cell_type": "markdown",
      "metadata": {
        "id": "OCDNU_DSO5TM"
      },
      "source": [
        "Посмотрим на связанные синсеты (гипонимы, антонимы, синонимы, меронимы)."
      ]
    },
    {
      "cell_type": "code",
      "metadata": {
        "id": "Gl0zhCG-O5TN"
      },
      "source": [
        "s = wn.synsets('car')[0]"
      ],
      "execution_count": null,
      "outputs": []
    },
    {
      "cell_type": "code",
      "metadata": {
        "scrolled": true,
        "id": "Pi1oG2cWO5TN",
        "colab": {
          "base_uri": "https://localhost:8080/"
        },
        "outputId": "fb47055f-31c3-4b9b-8ecf-a51ab18fc829"
      },
      "source": [
        "s.part_meronyms()"
      ],
      "execution_count": null,
      "outputs": [
        {
          "output_type": "execute_result",
          "data": {
            "text/plain": [
              "[Synset('accelerator.n.01'),\n",
              " Synset('air_bag.n.01'),\n",
              " Synset('auto_accessory.n.01'),\n",
              " Synset('automobile_engine.n.01'),\n",
              " Synset('automobile_horn.n.01'),\n",
              " Synset('buffer.n.06'),\n",
              " Synset('bumper.n.02'),\n",
              " Synset('car_door.n.01'),\n",
              " Synset('car_mirror.n.01'),\n",
              " Synset('car_seat.n.01'),\n",
              " Synset('car_window.n.01'),\n",
              " Synset('fender.n.01'),\n",
              " Synset('first_gear.n.01'),\n",
              " Synset('floorboard.n.02'),\n",
              " Synset('gasoline_engine.n.01'),\n",
              " Synset('glove_compartment.n.01'),\n",
              " Synset('grille.n.02'),\n",
              " Synset('high_gear.n.01'),\n",
              " Synset('hood.n.09'),\n",
              " Synset('luggage_compartment.n.01'),\n",
              " Synset('rear_window.n.01'),\n",
              " Synset('reverse.n.02'),\n",
              " Synset('roof.n.02'),\n",
              " Synset('running_board.n.01'),\n",
              " Synset('stabilizer_bar.n.01'),\n",
              " Synset('sunroof.n.01'),\n",
              " Synset('tail_fin.n.02'),\n",
              " Synset('third_gear.n.01'),\n",
              " Synset('window.n.02')]"
            ]
          },
          "metadata": {
            "tags": []
          },
          "execution_count": 26
        }
      ]
    },
    {
      "cell_type": "markdown",
      "metadata": {
        "id": "qWOtCQWJO5TN"
      },
      "source": [
        "Антонимы только достаются не очень удобно:"
      ]
    },
    {
      "cell_type": "code",
      "metadata": {
        "id": "2w9HVyASO5TN",
        "colab": {
          "base_uri": "https://localhost:8080/"
        },
        "outputId": "29f24dc4-6064-42c9-ede3-65a62edddf7a"
      },
      "source": [
        "wn.synsets('good')[2].lemmas()[0].antonyms()"
      ],
      "execution_count": null,
      "outputs": [
        {
          "output_type": "execute_result",
          "data": {
            "text/plain": [
              "[Lemma('bad.n.01.bad')]"
            ]
          },
          "metadata": {
            "tags": []
          },
          "execution_count": 27
        }
      ]
    },
    {
      "cell_type": "markdown",
      "metadata": {
        "id": "OByCUbSZO5TN"
      },
      "source": [
        "Можно засунуть это все в граф и нарисовать:"
      ]
    },
    {
      "cell_type": "code",
      "metadata": {
        "id": "FqgUNXsQO5TO",
        "colab": {
          "base_uri": "https://localhost:8080/"
        },
        "outputId": "07282938-53a8-4424-bde1-d31ea7fd5b57"
      },
      "source": [
        "!pip install networkx"
      ],
      "execution_count": null,
      "outputs": [
        {
          "output_type": "stream",
          "text": [
            "Requirement already satisfied: networkx in /usr/local/lib/python3.7/dist-packages (2.5)\n",
            "Requirement already satisfied: decorator>=4.3.0 in /usr/local/lib/python3.7/dist-packages (from networkx) (4.4.2)\n"
          ],
          "name": "stdout"
        }
      ]
    },
    {
      "cell_type": "code",
      "metadata": {
        "id": "YLT39fDuO5TO",
        "colab": {
          "base_uri": "https://localhost:8080/"
        },
        "outputId": "594c3cfb-b5d1-466d-cffa-e8ad1f37e2a4"
      },
      "source": [
        "import networkx as nx\n",
        "\n",
        "words = wn.synsets('car')\n",
        "hyponyms = words[0].part_meronyms()\n",
        "print(hyponyms)\n",
        "\n",
        "G=nx.Graph()\n",
        "\n",
        "for w in hyponyms: \n",
        "    G.add_edge(words[0].name().split('.')[0],\n",
        "               w.name().split('.')[0], \n",
        "               weight=words[0].wup_similarity(w))"
      ],
      "execution_count": null,
      "outputs": [
        {
          "output_type": "stream",
          "text": [
            "[Synset('accelerator.n.01'), Synset('air_bag.n.01'), Synset('auto_accessory.n.01'), Synset('automobile_engine.n.01'), Synset('automobile_horn.n.01'), Synset('buffer.n.06'), Synset('bumper.n.02'), Synset('car_door.n.01'), Synset('car_mirror.n.01'), Synset('car_seat.n.01'), Synset('car_window.n.01'), Synset('fender.n.01'), Synset('first_gear.n.01'), Synset('floorboard.n.02'), Synset('gasoline_engine.n.01'), Synset('glove_compartment.n.01'), Synset('grille.n.02'), Synset('high_gear.n.01'), Synset('hood.n.09'), Synset('luggage_compartment.n.01'), Synset('rear_window.n.01'), Synset('reverse.n.02'), Synset('roof.n.02'), Synset('running_board.n.01'), Synset('stabilizer_bar.n.01'), Synset('sunroof.n.01'), Synset('tail_fin.n.02'), Synset('third_gear.n.01'), Synset('window.n.02')]\n"
          ],
          "name": "stdout"
        }
      ]
    },
    {
      "cell_type": "code",
      "metadata": {
        "scrolled": true,
        "id": "ZLVaaz-CO5TO",
        "colab": {
          "base_uri": "https://localhost:8080/",
          "height": 575
        },
        "outputId": "5fb5804c-16fb-4fa3-e139-7b7ecd4b51ff"
      },
      "source": [
        "plt.figure(figsize=(10,10))\n",
        "plt.axis('off')\n",
        "\n",
        "nx.draw_networkx(G,with_labels=True,node_size=2000,\n",
        "                 font_size=10,\n",
        "                 node_shape='s',\n",
        "                 alpha=0.9,\n",
        "                 node_color='red')\n"
      ],
      "execution_count": null,
      "outputs": [
        {
          "output_type": "display_data",
          "data": {
            "image/png": "[encoded data removed]",
            "text/plain": [
              "<Figure size 720x720 with 1 Axes>"
            ]
          },
          "metadata": {
            "tags": []
          }
        }
      ]
    },
    {
      "cell_type": "markdown",
      "metadata": {
        "id": "1aMY3yC2O5TO"
      },
      "source": [
        "Можно посчитать близость между синсетами (зависит от того, какой путь нужно пройти по этим связям от одного объекта до другого и есть ли он вообще)"
      ]
    },
    {
      "cell_type": "code",
      "metadata": {
        "id": "yvkcA86yO5TO"
      },
      "source": [
        "car = wn.synsets('car')[0]\n",
        "bike = wn.synsets('bike')[0]"
      ],
      "execution_count": null,
      "outputs": []
    },
    {
      "cell_type": "code",
      "metadata": {
        "id": "PTIvr066O5TO",
        "colab": {
          "base_uri": "https://localhost:8080/"
        },
        "outputId": "d3e2244b-9a81-4a41-8700-c811c8c17504"
      },
      "source": [
        "bike.path_similarity(car)"
      ],
      "execution_count": null,
      "outputs": [
        {
          "output_type": "execute_result",
          "data": {
            "text/plain": [
              "0.3333333333333333"
            ]
          },
          "metadata": {
            "tags": []
          },
          "execution_count": 32
        }
      ]
    },
    {
      "cell_type": "markdown",
      "metadata": {
        "id": "IAobjumwO5TP"
      },
      "source": [
        "Есть и другие метрики:"
      ]
    },
    {
      "cell_type": "code",
      "metadata": {
        "id": "Qhin-teDO5TP",
        "colab": {
          "base_uri": "https://localhost:8080/"
        },
        "outputId": "ed53128c-a03b-4b20-cc66-50848fa027ad"
      },
      "source": [
        "wn.lch_similarity(bike, car)"
      ],
      "execution_count": null,
      "outputs": [
        {
          "output_type": "execute_result",
          "data": {
            "text/plain": [
              "2.538973871058276"
            ]
          },
          "metadata": {
            "tags": []
          },
          "execution_count": 33
        }
      ]
    },
    {
      "cell_type": "code",
      "metadata": {
        "id": "WNGhxdmtO5TP",
        "colab": {
          "base_uri": "https://localhost:8080/"
        },
        "outputId": "93cc5da7-c842-4e4a-9363-fe42d1e8f4b7"
      },
      "source": [
        "wn.wup_similarity(bike, car)"
      ],
      "execution_count": null,
      "outputs": [
        {
          "output_type": "execute_result",
          "data": {
            "text/plain": [
              "0.9166666666666666"
            ]
          },
          "metadata": {
            "tags": []
          },
          "execution_count": 34
        }
      ]
    },
    {
      "cell_type": "markdown",
      "metadata": {
        "id": "6FBXOn27O5TP"
      },
      "source": [
        "### Домашнее задание. Реализовать алгоритм Леска и проверить его на реальном датасете"
      ]
    },
    {
      "cell_type": "markdown",
      "metadata": {
        "id": "SIT6e9BTO5TP"
      },
      "source": [
        "Ворднет можно использовать для дизамбигуации. Самый простой алгоритм дизамбигуации - алгоритм Леска. В нём нужное значение слова находится через пересечение слов контекста, в котором употреблено это слово, с определениями значений слова из ворднета. Значение с максимальным пересечением - нужное."
      ]
    },
    {
      "cell_type": "markdown",
      "metadata": {
        "id": "oh8gnRYSO5TP"
      },
      "source": [
        "Реализуйте его"
      ]
    },
    {
      "cell_type": "code",
      "metadata": {
        "id": "K1g_ZkC_O5TQ"
      },
      "source": [
        "def count_overlap(sentence_a, sentence_b):\n",
        "  return sum((Counter(sentence_a) & Counter(sentence_b)).values())\n",
        "\n",
        "def lesk( word, sentence ):\n",
        "    \"\"\"Ваш код тут\"\"\"\n",
        "    bestsense = 0\n",
        "    maxoverlap = 0\n",
        "\n",
        "\n",
        "    #ваш код\n",
        "    synsets = wn.synsets(word)\n",
        "    \n",
        "    for i, syns in enumerate(synsets):\n",
        "        # ваш код\n",
        "        definition = syns.definition()\n",
        "        if definition and type(definition)==str:\n",
        "          definition = definition.lower().split()\n",
        "          overlap = count_overlap(definition, sentence)\n",
        "        else:\n",
        "          overlap = 0\n",
        "        \n",
        "        if overlap > maxoverlap:\n",
        "          maxoverlap = overlap\n",
        "          bestsense = i\n",
        "             \n",
        "    return bestsense\n"
      ],
      "execution_count": null,
      "outputs": []
    },
    {
      "cell_type": "markdown",
      "metadata": {
        "id": "7B6XecJXO5TQ"
      },
      "source": [
        "Работать функция должна как-то так:"
      ]
    },
    {
      "cell_type": "code",
      "metadata": {
        "id": "jW-qG4TwO5TQ",
        "colab": {
          "base_uri": "https://localhost:8080/"
        },
        "outputId": "0580f98d-75da-4d47-d48c-3d547b31e9b0"
      },
      "source": [
        "# на вход подается элемент результата работы уже написанной вами функции get_words_in_context\n",
        "lesk('day', 'some point or period in time'.split()) # для примера контекст совпадает с одним из определений\n",
        "# а на выходе индекс подходящего синсета"
      ],
      "execution_count": null,
      "outputs": [
        {
          "output_type": "execute_result",
          "data": {
            "text/plain": [
              "1"
            ]
          },
          "metadata": {
            "tags": []
          },
          "execution_count": 67
        }
      ]
    },
    {
      "cell_type": "code",
      "metadata": {
        "id": "zzoNiivyO5TQ",
        "colab": {
          "base_uri": "https://localhost:8080/"
        },
        "outputId": "d24bda0f-add2-46b9-d9b8-a09434675415"
      },
      "source": [
        "wn.synsets('day')"
      ],
      "execution_count": null,
      "outputs": [
        {
          "output_type": "execute_result",
          "data": {
            "text/plain": [
              "[Synset('day.n.01'),\n",
              " Synset('day.n.02'),\n",
              " Synset('day.n.03'),\n",
              " Synset('day.n.04'),\n",
              " Synset('day.n.05'),\n",
              " Synset('day.n.06'),\n",
              " Synset('day.n.07'),\n",
              " Synset('sidereal_day.n.01'),\n",
              " Synset('day.n.09'),\n",
              " Synset('day.n.10')]"
            ]
          },
          "metadata": {
            "tags": []
          },
          "execution_count": 68
        }
      ]
    },
    {
      "cell_type": "code",
      "metadata": {
        "id": "5Nb46_4bO5TQ",
        "colab": {
          "base_uri": "https://localhost:8080/",
          "height": 35
        },
        "outputId": "e578c1c0-da83-41df-d950-676752496bcc"
      },
      "source": [
        "# с помощью этого индекса достаем нужный синсет\n",
        "wn.synsets('day')[1].definition()"
      ],
      "execution_count": null,
      "outputs": [
        {
          "output_type": "execute_result",
          "data": {
            "application/vnd.google.colaboratory.intrinsic+json": {
              "type": "string"
            },
            "text/plain": [
              "'some point or period in time'"
            ]
          },
          "metadata": {
            "tags": []
          },
          "execution_count": 69
        }
      ]
    },
    {
      "cell_type": "markdown",
      "metadata": {
        "id": "rn44QwuxO5TQ"
      },
      "source": [
        "**Проверьте насколько хорошо работает такой метод на реальном датасете.** http://lcl.uniroma1.it/wsdeval/ - большой фреймворк для оценки WSD. Там много данных и я взял кусочек, чтобы не было проблем с памятью"
      ]
    },
    {
      "cell_type": "code",
      "metadata": {
        "id": "u6yEkwJVO5TR"
      },
      "source": [
        "corpus_wsd = []\n",
        "corpus = open('corpus_wsd_50k.txt').read().split('\\n\\n')\n",
        "for sent in corpus:\n",
        "    corpus_wsd.append([s.split('\\t') for s in sent.split('\\n')])"
      ],
      "execution_count": null,
      "outputs": []
    },
    {
      "cell_type": "markdown",
      "metadata": {
        "id": "jIZ1NCzKO5TR"
      },
      "source": [
        "Корпус состоит из предложений, где у каждого слова три поля - значение, лемма и само слово. Значение пустое, когда слово однозначное, а у многозначных слов стоит тэг вида **'long%3:00:02::'** Это тэг wordnet'ного формата"
      ]
    },
    {
      "cell_type": "code",
      "metadata": {
        "id": "f_-7S3OjO5TR",
        "colab": {
          "base_uri": "https://localhost:8080/"
        },
        "outputId": "24f55b55-89ff-49de-bddd-18d41e7f1a24"
      },
      "source": [
        "corpus_wsd[0]"
      ],
      "execution_count": null,
      "outputs": [
        {
          "output_type": "execute_result",
          "data": {
            "text/plain": [
              "[['', 'how', 'How'],\n",
              " ['long%3:00:02::', 'long', 'long'],\n",
              " ['', 'have', 'has'],\n",
              " ['', 'it', 'it'],\n",
              " ['be%2:42:03::', 'be', 'been'],\n",
              " ['', 'since', 'since'],\n",
              " ['', 'you', 'you'],\n",
              " ['review%2:31:00::', 'review', 'reviewed'],\n",
              " ['', 'the', 'the'],\n",
              " ['objective%1:09:00::', 'objective', 'objectives'],\n",
              " ['', 'of', 'of'],\n",
              " ['', 'you', 'your'],\n",
              " ['benefit%1:21:00::', 'benefit', 'benefit'],\n",
              " ['', 'and', 'and'],\n",
              " ['service%1:04:07::', 'service', 'service'],\n",
              " ['program%1:09:01::', 'program', 'program'],\n",
              " ['', '?', '?']]"
            ]
          },
          "metadata": {
            "tags": []
          },
          "execution_count": 71
        }
      ]
    },
    {
      "cell_type": "markdown",
      "metadata": {
        "id": "DuJhqDV1O5TR"
      },
      "source": [
        "Вот так можно достать соответствующий этому тэгу синсет:"
      ]
    },
    {
      "cell_type": "code",
      "metadata": {
        "id": "SXThBqf_O5TR",
        "colab": {
          "base_uri": "https://localhost:8080/"
        },
        "outputId": "11ba1caf-c87c-4b9e-8af8-e586a51c28c6"
      },
      "source": [
        "wn.lemma_from_key('review%2:31:00::').synset()"
      ],
      "execution_count": null,
      "outputs": [
        {
          "output_type": "execute_result",
          "data": {
            "text/plain": [
              "Synset('review.v.01')"
            ]
          },
          "metadata": {
            "tags": []
          },
          "execution_count": 72
        }
      ]
    },
    {
      "cell_type": "markdown",
      "metadata": {
        "id": "bQkef9reO5TR"
      },
      "source": [
        "Когда с помощью алгоритма Леска вы найдете подходящее значение, их можно просто сравнить"
      ]
    },
    {
      "cell_type": "code",
      "metadata": {
        "id": "qHCMe-vnO5TS",
        "colab": {
          "base_uri": "https://localhost:8080/"
        },
        "outputId": "1b8b3049-ea7b-4f39-c561-cae62fc13c49"
      },
      "source": [
        "i = lesk('long', \"It's a long story\")\r\n",
        "wn.synsets('long')[i]"
      ],
      "execution_count": null,
      "outputs": [
        {
          "output_type": "execute_result",
          "data": {
            "text/plain": [
              "Synset('long.a.01')"
            ]
          },
          "metadata": {
            "tags": []
          },
          "execution_count": 74
        }
      ]
    },
    {
      "cell_type": "code",
      "metadata": {
        "id": "gaIeyXnTO5TS",
        "colab": {
          "base_uri": "https://localhost:8080/"
        },
        "outputId": "e97a5230-2ea7-486b-82d9-c2e656f95e1f"
      },
      "source": [
        "# тут подходит второй синсет (!в вашем решении вместо индекса единицы будет результат работы функции lesk)\n",
        "wn.synsets('long')[1] == wn.lemma_from_key('long%3:00:02::').synset()"
      ],
      "execution_count": null,
      "outputs": [
        {
          "output_type": "execute_result",
          "data": {
            "text/plain": [
              "True"
            ]
          },
          "metadata": {
            "tags": []
          },
          "execution_count": 75
        }
      ]
    },
    {
      "cell_type": "code",
      "metadata": {
        "id": "_cBAaLUmO5TS",
        "colab": {
          "base_uri": "https://localhost:8080/"
        },
        "outputId": "b6301a79-34ef-4d0c-f4ce-79808d2d4dd5"
      },
      "source": [
        "# можно сравнить со всеми, чтобы убедиться\n",
        "[(syns, wn.synsets('long')[i] == wn.lemma_from_key('long%3:00:02::').synset()) \n",
        "  for i, syns in enumerate(wn.synsets('long'))]"
      ],
      "execution_count": null,
      "outputs": [
        {
          "output_type": "execute_result",
          "data": {
            "text/plain": [
              "[(Synset('hanker.v.01'), False),\n",
              " (Synset('long.a.01'), True),\n",
              " (Synset('long.a.02'), False),\n",
              " (Synset('long.s.03'), False),\n",
              " (Synset('retentive.a.01'), False),\n",
              " (Synset('long.a.05'), False),\n",
              " (Synset('long.a.06'), False),\n",
              " (Synset('long.s.07'), False),\n",
              " (Synset('farseeing.s.02'), False),\n",
              " (Synset('long.s.09'), False),\n",
              " (Synset('long.r.01'), False),\n",
              " (Synset('long.r.02'), False)]"
            ]
          },
          "metadata": {
            "tags": []
          },
          "execution_count": 76
        }
      ]
    },
    {
      "cell_type": "markdown",
      "metadata": {
        "id": "GCvCqIx_O5TS"
      },
      "source": [
        "**Вам нужно для каждого многозначного слова (т.е. у него есть тэг в первом поле) с помощью алгоритма Леска предсказать нужный синсет и сравнить с правильным. Посчитайте процент правильных предсказаний (accuracy).**\n",
        "\n",
        "Если считается слишком долго, возьмите поменьше предложений (например, только тысячу)"
      ]
    },
    {
      "cell_type": "code",
      "metadata": {
        "id": "OTR6r4yHhgUH"
      },
      "source": [
        "from tqdm import tqdm_notebook"
      ],
      "execution_count": null,
      "outputs": []
    },
    {
      "cell_type": "code",
      "metadata": {
        "id": "WK7ZkB3beuT3",
        "colab": {
          "base_uri": "https://localhost:8080/",
          "height": 81,
          "referenced_widgets": [
            "b445d5b2931a470ea01abc624f9ce290",
            "82b2fe49b89a428f9521f4b12dfab11b",
            "b9ee84d0ac7f40768b9a6216b99aebf4",
            "44ec6fdbe1ce456c9728d311437264c8",
            "4f4205a4709147e7b5cea0a0382f5c69",
            "e232dbe7b30c4a05b19b253bd93430f5",
            "b84bdc87208a4d588942626bb4f7b6c2",
            "c63c30900b6745f0b1127149730a2a01"
          ]
        },
        "outputId": "739a2baa-df89-44f3-d2ee-8cd5303e320d"
      },
      "source": [
        "all = 0\r\n",
        "true = 0\r\n",
        "\r\n",
        "for sent in tqdm_notebook(corpus_wsd, total=len(corpus_wsd)):\r\n",
        "  sent = [i for i in sent if len(i)==3]\r\n",
        "\r\n",
        "  for sense, lemma, word in sent:\r\n",
        "    if sense:\r\n",
        "      all += 1\r\n",
        "      index = lesk(lemma, [token[2].lower() for token in sent])\r\n",
        "      if wn.synsets(lemma)[index] == wn.lemma_from_key(sense).synset():\r\n",
        "        true += 1\r\n",
        "\r\n",
        "print(f'Accuracy: {true/all}')"
      ],
      "execution_count": null,
      "outputs": [
        {
          "output_type": "display_data",
          "data": {
            "application/vnd.jupyter.widget-view+json": {
              "model_id": "b445d5b2931a470ea01abc624f9ce290",
              "version_minor": 0,
              "version_major": 2
            },
            "text/plain": [
              "HBox(children=(FloatProgress(value=0.0, max=49453.0), HTML(value='')))"
            ]
          },
          "metadata": {
            "tags": []
          }
        },
        {
          "output_type": "stream",
          "text": [
            "\n",
            "Accuracy: 0.3326830976228883\n"
          ],
          "name": "stdout"
        }
      ]
    },
    {
      "cell_type": "markdown",
      "metadata": {
        "id": "Ea_rNxW0O5TS"
      },
      "source": [
        "### Дополнительный балл"
      ]
    },
    {
      "cell_type": "markdown",
      "metadata": {
        "id": "XZZjaN7zO5TS"
      },
      "source": [
        "Если хотите заработать дополнительный балл, попробуйте улучшить алгоритм Леска любым способом (например, использовать расстояние редактирования вместо пересечения или даже вставить машинное обучение)"
      ]
    }
  ]
}