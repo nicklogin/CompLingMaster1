{
 "cells": [
  {
   "cell_type": "markdown",
   "metadata": {},
   "source": [
    "# Задание 1"
   ]
  },
  {
   "attachments": {
    "image.png": {
     "image/png": "[encoded data removed]"
    }
   },
   "cell_type": "markdown",
   "metadata": {},
   "source": [
    "![image.png](attachment:image.png)"
   ]
  },
  {
   "cell_type": "markdown",
   "metadata": {},
   "source": [
    "# Задание 2"
   ]
  },
  {
   "cell_type": "code",
   "execution_count": 5,
   "metadata": {},
   "outputs": [],
   "source": [
    "import pandas as pd\n",
    "import numpy as np\n",
    "\n",
    "from sklearn.feature_extraction.text import CountVectorizer, TfidfVectorizer"
   ]
  },
  {
   "cell_type": "code",
   "execution_count": 30,
   "metadata": {},
   "outputs": [],
   "source": [
    "df = pd.read_csv(\"labeled.csv\")"
   ]
  },
  {
   "cell_type": "code",
   "execution_count": 31,
   "metadata": {},
   "outputs": [
    {
     "data": {
      "text/html": [
       "<div>\n",
       "<style scoped>\n",
       "    .dataframe tbody tr th:only-of-type {\n",
       "        vertical-align: middle;\n",
       "    }\n",
       "\n",
       "    .dataframe tbody tr th {\n",
       "        vertical-align: top;\n",
       "    }\n",
       "\n",
       "    .dataframe thead th {\n",
       "        text-align: right;\n",
       "    }\n",
       "</style>\n",
       "<table border=\"1\" class=\"dataframe\">\n",
       "  <thead>\n",
       "    <tr style=\"text-align: right;\">\n",
       "      <th></th>\n",
       "      <th>comment</th>\n",
       "      <th>toxic</th>\n",
       "    </tr>\n",
       "  </thead>\n",
       "  <tbody>\n",
       "    <tr>\n",
       "      <th>0</th>\n",
       "      <td>Верблюдов-то за что? Дебилы, бл...\\n</td>\n",
       "      <td>1.0</td>\n",
       "    </tr>\n",
       "    <tr>\n",
       "      <th>1</th>\n",
       "      <td>Хохлы, это отдушина затюканого россиянина, мол...</td>\n",
       "      <td>1.0</td>\n",
       "    </tr>\n",
       "    <tr>\n",
       "      <th>2</th>\n",
       "      <td>Собаке - собачья смерть\\n</td>\n",
       "      <td>1.0</td>\n",
       "    </tr>\n",
       "    <tr>\n",
       "      <th>3</th>\n",
       "      <td>Страницу обнови, дебил. Это тоже не оскорблени...</td>\n",
       "      <td>1.0</td>\n",
       "    </tr>\n",
       "    <tr>\n",
       "      <th>4</th>\n",
       "      <td>тебя не убедил 6-страничный пдф в том, что Скр...</td>\n",
       "      <td>1.0</td>\n",
       "    </tr>\n",
       "  </tbody>\n",
       "</table>\n",
       "</div>"
      ],
      "text/plain": [
       "                                             comment  toxic\n",
       "0               Верблюдов-то за что? Дебилы, бл...\\n    1.0\n",
       "1  Хохлы, это отдушина затюканого россиянина, мол...    1.0\n",
       "2                          Собаке - собачья смерть\\n    1.0\n",
       "3  Страницу обнови, дебил. Это тоже не оскорблени...    1.0\n",
       "4  тебя не убедил 6-страничный пдф в том, что Скр...    1.0"
      ]
     },
     "execution_count": 31,
     "metadata": {},
     "output_type": "execute_result"
    }
   ],
   "source": [
    "df.head()"
   ]
  },
  {
   "cell_type": "markdown",
   "metadata": {},
   "source": [
    "Закодируем тексты:"
   ]
  },
  {
   "cell_type": "code",
   "execution_count": 33,
   "metadata": {},
   "outputs": [],
   "source": [
    "tf_idf_matrix = TfidfVectorizer().fit_transform(df.comment)"
   ]
  },
  {
   "cell_type": "code",
   "execution_count": 46,
   "metadata": {},
   "outputs": [
    {
     "data": {
      "text/plain": [
       "<14412x68423 sparse matrix of type '<class 'numpy.float64'>'\n",
       "\twith 320935 stored elements in Compressed Sparse Row format>"
      ]
     },
     "execution_count": 46,
     "metadata": {},
     "output_type": "execute_result"
    }
   ],
   "source": [
    "tf_idf_matrix"
   ]
  },
  {
   "cell_type": "markdown",
   "metadata": {},
   "source": [
    "## а) Посчитайте близость между 3 и 12666 текстами в датасете (labeled.csv из семинара) "
   ]
  },
  {
   "cell_type": "markdown",
   "metadata": {},
   "source": [
    "Так как в sklearn tf-idf вектора по умолчанию проходят нормализацию по L2 (делятся на кв. корень из суммы квадратов компонент), то косинусную близость между векторами можно получить, просто перемножив их:"
   ]
  },
  {
   "cell_type": "code",
   "execution_count": 40,
   "metadata": {},
   "outputs": [
    {
     "data": {
      "text/plain": [
       "0.2733088629754925"
      ]
     },
     "execution_count": 40,
     "metadata": {},
     "output_type": "execute_result"
    }
   ],
   "source": [
    "tf_idf_matrix[3].toarray()[0].dot(tf_idf_matrix[12666].toarray()[0])"
   ]
  },
  {
   "cell_type": "markdown",
   "metadata": {},
   "source": [
    "## б) найдите 3 самых близких текста к тексту номер 43; выведите сами тексты и значения близостей, а не только индексы этих текстов"
   ]
  },
  {
   "cell_type": "markdown",
   "metadata": {},
   "source": [
    "Аналогично пункту a) умножим вектор текста 43 на TfIdf-матрицу, чтобы получить его близость со всеми текстами:"
   ]
  },
  {
   "cell_type": "code",
   "execution_count": 57,
   "metadata": {},
   "outputs": [],
   "source": [
    "similarities = tf_idf_matrix[43].dot(tf_idf_matrix.transpose())"
   ]
  },
  {
   "cell_type": "code",
   "execution_count": 58,
   "metadata": {},
   "outputs": [],
   "source": [
    "similarities = similarities.toarray()[0]"
   ]
  },
  {
   "cell_type": "markdown",
   "metadata": {},
   "source": [
    "Берём с -4 по -1 элементы, чтобы исключить близость текста с самим собой:"
   ]
  },
  {
   "cell_type": "code",
   "execution_count": 67,
   "metadata": {},
   "outputs": [],
   "source": [
    "most_similar = similarities.argsort()[-4:-1]"
   ]
  },
  {
   "cell_type": "code",
   "execution_count": 68,
   "metadata": {},
   "outputs": [
    {
     "name": "stdout",
     "output_type": "stream",
     "text": [
      "Люди зажрались и охуели если по мнению этих игроков андромеда лучше Антема. Хотя че там с багаутом76 сравнивают вон... Вот оно че оказывается, игроки просто охуели, ну ок. Вот долбанные пидерасы, не хотят покупать такую отличную игру, а еще смеют ругать такой божественный геймплей. Баги, хуевый геймплей поправят, а контент, ну его запилят, через год другой, причем бесплатно! Ага. Стоит лишь потерпеть!\n",
      "\n"
     ]
    }
   ],
   "source": [
    "print(df.comment[43])"
   ]
  },
  {
   "cell_type": "code",
   "execution_count": 69,
   "metadata": {},
   "outputs": [
    {
     "name": "stdout",
     "output_type": "stream",
     "text": [
      "НУ И КАКАЯ МРАЗЬ КИДАЕТ ССЫЛКИ? ОХУЕЛИ ТАМ В КРАЙ УЖЕ?\n",
      " 0.16043982092396117\n",
      "Че за бригада и че за махоун? Из полицейской академии? 0.11789148760536663\n",
      "Герка ебет только даунов которые игрли а него. Ибо и геймплей и сюжетто кусок говна.\n",
      " 0.11409080923099105\n"
     ]
    }
   ],
   "source": [
    "for text_id in most_similar[::-1]:\n",
    "    print(df.comment[text_id], similarities[text_id])"
   ]
  },
  {
   "cell_type": "markdown",
   "metadata": {},
   "source": [
    "# Задание 3"
   ]
  },
  {
   "cell_type": "code",
   "execution_count": 245,
   "metadata": {},
   "outputs": [],
   "source": [
    "from sklearn.linear_model import LogisticRegression\n",
    "from sklearn.tree import DecisionTreeClassifier\n",
    "from sklearn.naive_bayes import MultinomialNB\n",
    "from sklearn.metrics import classification_report, f1_score\n",
    "from sklearn.model_selection import ParameterGrid, train_test_split\n",
    "\n",
    "import nltk\n",
    "\n",
    "from pymorphy2.tokenizers import simple_word_tokenize\n",
    "from tqdm import tqdm_notebook\n",
    "from nltk import sent_tokenize"
   ]
  },
  {
   "cell_type": "code",
   "execution_count": 110,
   "metadata": {},
   "outputs": [],
   "source": [
    "word_tokenize = lambda x: nltk.word_tokenize(x, language='russian')"
   ]
  },
  {
   "cell_type": "markdown",
   "metadata": {},
   "source": [
    "Зададим сетки параметров для классификаторов:"
   ]
  },
  {
   "cell_type": "code",
   "execution_count": 226,
   "metadata": {},
   "outputs": [],
   "source": [
    "tree_grid = list(ParameterGrid({'criterion': ('gini','entropy'),\n",
    "            'class_weight': ['balanced'],\n",
    "            'max_features': (None, 'sqrt', 'log2'),\n",
    "            'max_depth': [i for i in range(2, 11)]+[i*10 for i in range(2, 11)]}))"
   ]
  },
  {
   "cell_type": "code",
   "execution_count": 225,
   "metadata": {},
   "outputs": [],
   "source": [
    "lr_grid = list(ParameterGrid({'C': [10**i for i in range(1,6)],\n",
    "                       'class_weight': ['balanced'],\n",
    "                       'penalty': ['l1', 'l2'],\n",
    "                       'solver': ['liblinear', 'sag', 'saga']}))"
   ]
  },
  {
   "cell_type": "code",
   "execution_count": 240,
   "metadata": {},
   "outputs": [],
   "source": [
    "bayes_grid = list(ParameterGrid({'alpha': [10**(-i) for i in range(6)],\n",
    "                                'fit_prior': [True, False]}))"
   ]
  },
  {
   "cell_type": "markdown",
   "metadata": {},
   "source": [
    "И для векторайзеров:"
   ]
  },
  {
   "cell_type": "code",
   "execution_count": 168,
   "metadata": {},
   "outputs": [],
   "source": [
    "count_grid = list(ParameterGrid({'lowercase': (True, False),\n",
    "                           'tokenizer': (None, simple_word_tokenize, word_tokenize),\n",
    "                            'max_df': [1.0, 0.9, 0.8],\n",
    "                            'min_df':[0,0.05,0.1,0.15,0.2],\n",
    "                            'stop_words': [None, nltk.corpus.stopwords.words('russian')]}))"
   ]
  },
  {
   "cell_type": "code",
   "execution_count": 169,
   "metadata": {},
   "outputs": [],
   "source": [
    "tf_idf_grid = list(ParameterGrid({'lowercase': (True, False),\n",
    "                           'tokenizer': (None, simple_word_tokenize, word_tokenize),\n",
    "                            'max_df': [1.0, 0.9, 0.8],\n",
    "                            'min_df':[0,0.05,0.1,0.15,0.2],\n",
    "                            'stop_words': [None, nltk.corpus.stopwords.words('russian')],\n",
    "                            'norm': ('l1','l2'),\n",
    "                            'smooth_idf': (True, False)}))"
   ]
  },
  {
   "cell_type": "code",
   "execution_count": 170,
   "metadata": {},
   "outputs": [],
   "source": [
    "X_train, X_test, y_train, y_test = train_test_split(df.comment, df.toxic)"
   ]
  },
  {
   "cell_type": "markdown",
   "metadata": {},
   "source": [
    "Зачем подбирать параметры вручную, когда можно применить GridSearch?"
   ]
  },
  {
   "cell_type": "code",
   "execution_count": 233,
   "metadata": {},
   "outputs": [],
   "source": [
    "def my_grid_search(X_train, X_test, y_train, y_test, vec_class, clf_class, vec_grid, clf_grid):\n",
    "    best_vec, best_vec_params, best_clf, best_clf_params = None, None, None, None\n",
    "    pbar = tqdm_notebook(total=len(vec_grid)*len(clf_grid), leave=True)\n",
    "    i = 0\n",
    "    best_f1 = 0\n",
    "    for vec_params in vec_grid:\n",
    "        vec = vec_class(**vec_params).fit(X_train)\n",
    "        X_train_vec = vec.transform(X_train)\n",
    "        X_test_vec = vec.transform(X_test)\n",
    "        for clf_params in clf_grid:\n",
    "            i += 1\n",
    "            clf = clf_class(**clf_params).fit(X_train_vec, y_train)\n",
    "            pred = clf.predict(X_test_vec)\n",
    "            f1 = f1_score(y_test, pred)\n",
    "            if i% 20 == 0:\n",
    "                pbar.update(20)\n",
    "            if f1 > best_f1:\n",
    "                pbar.set_postfix({'Best f1_score': f1})\n",
    "                best_f1 = f1\n",
    "            if f1 > 0.75:\n",
    "                best_vec = vec\n",
    "                best_vec_params = vec_params\n",
    "                best_clf = clf\n",
    "                best_clf_params = clf_params\n",
    "                pbar.close()\n",
    "                break\n",
    "        if best_vec:\n",
    "            print(f\"Test F1-score: {f1}\")\n",
    "            break\n",
    "    return best_vec, best_clf, best_vec_params, best_clf_params"
   ]
  },
  {
   "cell_type": "code",
   "execution_count": 229,
   "metadata": {},
   "outputs": [
    {
     "data": {
      "application/vnd.jupyter.widget-view+json": {
       "model_id": "966d098bf6d346f19f38a96f98a36e54",
       "version_major": 2,
       "version_minor": 0
      },
      "text/plain": [
       "HBox(children=(IntProgress(value=0, max=21600), HTML(value='')))"
      ]
     },
     "metadata": {},
     "output_type": "display_data"
    },
    {
     "name": "stdout",
     "output_type": "stream",
     "text": [
      "Test F1-score: 0.7612061939690302\n"
     ]
    }
   ],
   "source": [
    "best_tfidf, best_lr, best_tfidf_params, best_lr_params = my_grid_search(X_train, X_test, y_train, y_test,\n",
    "                                                                       TfidfVectorizer, LogisticRegression,\n",
    "                                                                       tf_idf_grid, lr_grid)"
   ]
  },
  {
   "cell_type": "markdown",
   "metadata": {},
   "source": [
    "Посмотри на параметры классификатора/векторайзера:"
   ]
  },
  {
   "cell_type": "code",
   "execution_count": 279,
   "metadata": {},
   "outputs": [
    {
     "name": "stdout",
     "output_type": "stream",
     "text": [
      "{'C': 10, 'class_weight': 'balanced', 'penalty': 'l1', 'solver': 'liblinear'}\n",
      "{'lowercase': True, 'max_df': 1.0, 'min_df': 0, 'norm': 'l1', 'smooth_idf': True, 'stop_words': None, 'tokenizer': None}\n"
     ]
    }
   ],
   "source": [
    "print(best_lr_params)\n",
    "print(best_tfidf_params)"
   ]
  },
  {
   "cell_type": "markdown",
   "metadata": {},
   "source": [
    "Проверим, что всё и правда хорошо:"
   ]
  },
  {
   "cell_type": "code",
   "execution_count": 230,
   "metadata": {},
   "outputs": [],
   "source": [
    "X_test_vec = best_tfidf.transform(X_test)"
   ]
  },
  {
   "cell_type": "code",
   "execution_count": 231,
   "metadata": {},
   "outputs": [
    {
     "name": "stdout",
     "output_type": "stream",
     "text": [
      "              precision    recall  f1-score   support\n",
      "\n",
      "         0.0       0.85      0.90      0.88      2309\n",
      "         1.0       0.81      0.72      0.76      1294\n",
      "\n",
      "    accuracy                           0.84      3603\n",
      "   macro avg       0.83      0.81      0.82      3603\n",
      "weighted avg       0.84      0.84      0.84      3603\n",
      "\n"
     ]
    }
   ],
   "source": [
    "print(classification_report(y_test, best_lr.predict(X_test_vec)))"
   ]
  },
  {
   "cell_type": "code",
   "execution_count": 241,
   "metadata": {},
   "outputs": [
    {
     "data": {
      "application/vnd.jupyter.widget-view+json": {
       "model_id": "2465631764bb44938f0544fc0e9e1127",
       "version_major": 2,
       "version_minor": 0
      },
      "text/plain": [
       "HBox(children=(IntProgress(value=0, max=2160), HTML(value='')))"
      ]
     },
     "metadata": {},
     "output_type": "display_data"
    },
    {
     "name": "stdout",
     "output_type": "stream",
     "text": [
      "Test F1-score: 0.776429809358752\n"
     ]
    }
   ],
   "source": [
    "best_count, best_bayes, best_count_params, best_bayes_params = my_grid_search(X_train, X_test,\n",
    "                                                                           y_train, y_test,\n",
    "                                                                           CountVectorizer, MultinomialNB,\n",
    "                                                                           count_grid, bayes_grid)"
   ]
  },
  {
   "cell_type": "markdown",
   "metadata": {},
   "source": [
    "Посмотри на параметры классификатора/векторайзера:"
   ]
  },
  {
   "cell_type": "code",
   "execution_count": 280,
   "metadata": {},
   "outputs": [
    {
     "name": "stdout",
     "output_type": "stream",
     "text": [
      "{'alpha': 1, 'fit_prior': False}\n",
      "{'lowercase': True, 'max_df': 1.0, 'min_df': 0, 'stop_words': None, 'tokenizer': None}\n"
     ]
    }
   ],
   "source": [
    "print(best_bayes_params)\n",
    "print(best_count_params)"
   ]
  },
  {
   "cell_type": "markdown",
   "metadata": {},
   "source": [
    "Проверим, что всё и правда хорошо:"
   ]
  },
  {
   "cell_type": "code",
   "execution_count": 242,
   "metadata": {},
   "outputs": [
    {
     "name": "stdout",
     "output_type": "stream",
     "text": [
      "              precision    recall  f1-score   support\n",
      "\n",
      "         0.0       0.85      0.95      0.89      2309\n",
      "         1.0       0.88      0.69      0.78      1294\n",
      "\n",
      "    accuracy                           0.86      3603\n",
      "   macro avg       0.86      0.82      0.84      3603\n",
      "weighted avg       0.86      0.86      0.85      3603\n",
      "\n"
     ]
    }
   ],
   "source": [
    "X_test_vec = best_count.transform(X_test)\n",
    "print(classification_report(y_test, best_bayes.predict(X_test_vec)))"
   ]
  },
  {
   "cell_type": "code",
   "execution_count": 247,
   "metadata": {},
   "outputs": [],
   "source": [
    "with open('2ch_corpus.txt','r',encoding='utf-8') as inp:\n",
    "    dvach = inp.read()\n",
    "\n",
    "dvach = sent_tokenize(dvach, language='russian')"
   ]
  },
  {
   "cell_type": "code",
   "execution_count": 268,
   "metadata": {},
   "outputs": [],
   "source": [
    "def pipe(sents, clf, vectorizer):\n",
    "    X = vectorizer.transform(sents)\n",
    "    y = clf.predict_proba(X)\n",
    "    return y"
   ]
  },
  {
   "cell_type": "code",
   "execution_count": 274,
   "metadata": {},
   "outputs": [],
   "source": [
    "def top_k_preds(sents, clf, vectorizer, k=10):\n",
    "    y = pipe(sents, clf, vectorizer).transpose()[1]\n",
    "    top = []\n",
    "    for index in y.argsort()[-1:-k-1:-1]:\n",
    "        top.append((sents[index], y[index]))\n",
    "    return top"
   ]
  },
  {
   "cell_type": "code",
   "execution_count": 270,
   "metadata": {},
   "outputs": [],
   "source": [
    "top_toxic_lr_tfidf = top_k_preds(dvach, best_lr, best_tfidf)\n",
    "top_toxic_bayes_count = top_k_preds(dvach, best_bayes, best_count)"
   ]
  },
  {
   "cell_type": "code",
   "execution_count": 271,
   "metadata": {},
   "outputs": [
    {
     "name": "stdout",
     "output_type": "stream",
     "text": [
      "('Пиздец.', 1.0)\n",
      "('Узколобое быдло.', 1.0)\n",
      "('Ты отвратительно питаешься.', 1.0)\n",
      "('Ты тормоз.', 1.0)\n",
      "('Пиздец.', 1.0)\n",
      "('Сука.', 1.0)\n",
      "('Пиздец.', 1.0)\n",
      "('ПИЗДЕЦ БЛЯЯЯЯТЬ!!', 1.0)\n",
      "('Ты рукожоп.', 1.0)\n",
      "('Ну и дебил.', 1.0)\n"
     ]
    }
   ],
   "source": [
    "for sent in top_toxic_lr_tfidf:\n",
    "    print(sent)"
   ]
  },
  {
   "cell_type": "code",
   "execution_count": 272,
   "metadata": {},
   "outputs": [
    {
     "name": "stdout",
     "output_type": "stream",
     "text": [
      "('Прошлые треды: - Тред №1 - №80 — Тред №81 — Тред №82 — Тред №83 — Тред №84 — Тред №85 — Тред №86 — Тред №87 — Тред №88 — Тред №89 — Тред №90 — Тред №91 — Тред №92 — Тред №93 — Тред №94 — Тред №95 — Тред №96 — Тред №97 — Тред №98 — Тред №99 — Тред №100 — Тред №101 — Тред №102 — Тред №103 — Тред №104 — Тред №105 — Тред №106 — Тред №107 — Тред №108 — Тред №109 — Тред №110 — Тред №111 — Тред №112 — Тред №113 — Тред №114 — Тред №115 — Тред №116 — Тред №117 — Тред №118 — Тред №119 — Тред №120 — Тред №121УСТРОИМ ШЛЮХАМ И ПЕДОФИЛАМ ПРАЗДНИК!', 1.0)\n",
      "('Прошлые треды: - Тред №1 - №80 — Тред №81 — Тред №82 — Тред №83 — Тред №84 — Тред №85 — Тред №86 — Тред №87 — Тред №88 — Тред №89 — Тред №90 — Тред №91 — Тред №92 — Тред №93 — Тред №94 — Тред №95 — Тред №96 - Тред №97 - Тред №98 — Тред №99 — Тред №100 — Тред №101 — Тред №102 — Тред №103 — Тред №104 — Тред №105 — Тред №106 — Тред №107УСТРОИМ ШЛЮХАМ ПРАЗДНИК!', 1.0)\n",
      "('МАЗДА ПЛАЧЕТ А ВЕРСУС ХЕР ТЕ)))\\n  РЮЗКЕ ДВОРЫОБОССАНЫЕ ХРУЩОБЫПАНЕЛЬКИ В ХИПСТОФИЛЬТРАХ\\n Маня Быдло За щёку Бугурт Бомбануло Пригорел Порвался Припекло Поссал Обоссался Обосрался Найс Кек Унтерок2к16>подразумевая Лол Чувак Кун Тян ПИСАТЬ ТЕКСТЫ @ ВОТ ТАКПроекции Манёвры Оправдания Ротешник Ротеш Зашивайся Пидораха Хохол Либераха+15Стекломой Мясо надо есть с хлебом Ибо Т. к.ТНУСТННЛамповый Щас бы Няшный Тащемта Вещества Трип Любые цитаты из песен летова Врети Годно Годнота Годный Карл Толсто Толстота Жирный Жирнота Соус Молю Пилю прохладную Стори Бампецкий Ольгино, олька Под пледиком Аниму Любое слово + окончание \"блядь\" \"боярин\" \"господин\"Лел/лал/лул/лол Лвл Пруф Сельдь Подмойся Пиздолиз Бабораб Ерохин Альфа(ч) Омега(н) Лоли Шота(что угодно), плиз.', 1.0)\n",
      "('твоя броня может быть толще твоей мамаши, пушка может быть калибром больше, чем анус саши грей и ездить ты можешь быстрее света НО КАКАЯ НАХУЙ РАЗНИЦА если на тебя едет целый рой тридцатьчетверок (которых только на красном сормове склепали 15 тыщ) Их будет много и они придут в упор, а за ними куча анонов, а до всего этого тебя обработает артиллерия и авиация\\n КЕК КЕК КЕК КЕККЕК КЕК КЕК КЕККЕК КЕК КЕК КЕККЕК КЕК КЕК КЕККЕК КЕК КЕК КЕККЕК КЕК КЕК КЕККЕК КЕК КЕК КЕККЕК КЕК КЕК КЕККЕК КЕК КЕК КЕККЕК КЕК КЕК КЕККЕК КЕК КЕК КЕККЕК КЕК КЕК КЕККЕК КЕК КЕК КЕККЕК КЕК КЕК КЕККЕК КЕК КЕК КЕККЕК КЕК КЕК КЕККЕК КЕК КЕК КЕККЕК КЕК КЕК КЕККЕК КЕК КЕК КЕККЕК КЕК КЕК КЕККЕК КЕК КЕК КЕККЕК КЕК КЕК КЕККЕК КЕК КЕК КЕККЕК КЕК КЕК КЕККЕК КЕК КЕК КЕККЕК КЕК КЕК КЕККЕК КЕК КЕК КЕККЕК КЕК КЕК КЕККЕК КЕК КЕК КЕККЕК КЕК КЕК КЕККЕК КЕК КЕК КЕККЕК КЕК КЕК КЕККЕК КЕК КЕК КЕККЕК КЕК КЕК КЕККЕК КЕК КЕК КЕККЕК КЕК КЕК КЕККЕК КЕК КЕК КЕККЕК КЕК КЕК КЕККЕК КЕК КЕК КЕККЕК КЕК КЕК КЕККЕК КЕК КЕК КЕККЕК КЕК КЕК КЕККЕК КЕК КЕК КЕККЕК КЕК КЕК КЕККЕК КЕК КЕК КЕККЕК КЕК КЕК КЕККЕК КЕК КЕК КЕККЕК КЕК КЕК КЕККЕК КЕК КЕК КЕККЕК КЕК КЕК КЕККЕК КЕК КЕК КЕККЕК КЕК КЕК КЕККЕК КЕК КЕК КЕККЕК КЕК КЕК КЕККЕК КЕК КЕК КЕККЕК КЕК КЕК КЕККЕК КЕК КЕК КЕККЕК КЕК КЕК КЕККЕК КЕК КЕК КЕККЕК КЕК КЕК КЕККЕК КЕК КЕК КЕККЕК КЕК КЕК КЕККЕК КЕК КЕК КЕККЕК КЕК КЕК КЕККЕК КЕК КЕК КЕККЕК КЕК КЕК КЕККЕК КЕК КЕК КЕККЕК КЕК КЕК КЕККЕК КЕК КЕК КЕККЕК КЕК КЕК КЕККЕК КЕК КЕК КЕККЕК КЕК КЕК КЕККЕК КЕК КЕК КЕККЕК КЕК КЕК КЕККЕК КЕК КЕК КЕККЕК КЕК КЕК КЕККЕК КЕК КЕК КЕККЕК КЕК КЕК КЕККЕК КЕК КЕК КЕККЕК КЕК КЕК КЕККЕК КЕК КЕК КЕККЕК КЕК КЕК КЕККЕК КЕК КЕК КЕККЕК КЕК КЕК КЕККЕК КЕК КЕК КЕККЕК КЕК КЕК КЕККЕК КЕК КЕК КЕККЕК КЕК КЕК КЕККЕК КЕК КЕК КЕККЕК КЕК КЕК КЕККЕК КЕК КЕК КЕККЕК КЕК КЕК КЕККЕК КЕК КЕК КЕККЕК КЕК КЕК КЕККЕК КЕК КЕК КЕККЕК КЕК КЕК КЕККЕК КЕК КЕК КЕККЕК КЕК КЕК КЕККЕК КЕК КЕК КЕККЕК КЕК КЕК КЕККЕК КЕК КЕК КЕККЕК КЕК КЕК КЕККЕК КЕК КЕК КЕККЕК КЕК КЕК КЕККЕК КЕК КЕК КЕККЕК КЕК КЕК КЕККЕК КЕК КЕК КЕККЕК КЕК КЕК КЕККЕК КЕК КЕК КЕККЕК КЕК КЕК КЕККЕК КЕК КЕК КЕККЕК КЕК КЕК КЕККЕК КЕК КЕК КЕККЕК КЕК КЕК КЕККЕК КЕК КЕК КЕККЕК КЕК КЕК КЕККЕК КЕК КЕК КЕККЕК КЕК КЕК КЕККЕК КЕК КЕК КЕККЕК КЕК КЕК КЕККЕК КЕК КЕК КЕККЕК КЕК КЕК КЕК\\n Если сравнивать танки в вакууме, то поставь один Маус и все твои 15 тыщ тризатьчатверок обосрутся.', 1.0)\n",
      "('Игор, ты сука, ты чмо, ты пидор, ты гной блять, ты нахуя Варга убил, сука, как мне теперь новый альбом ждать, чмо всратое?', 1.0)\n",
      "('ТВИЧ ШЛЮХИ ТВИЧ ШЛЮХИ СТРИМЕРЫ СТРИМЕРЫ ДОНАТ СТРИМ ВЛОГ ЮТУБ ТВИЧТВИЧ ШЛЮХИ ТВИЧ ШЛЮХИ СТРИМЕРЫ СТРИМЕРЫ ДОНАТ СТРИМ ВЛОГ ЮТУБ ТВИЧТВИЧ ШЛЮХИ ТВИЧ ШЛЮХИ СТРИМЕРЫ СТРИМЕРЫ ДОНАТ СТРИМ ВЛОГ ЮТУБ ТВИЧТВИЧ ШЛЮХИ ТВИЧ ШЛЮХИ СТРИМЕРЫ СТРИМЕРЫ ДОНАТ СТРИМ ВЛОГ ЮТУБ ТВИЧТВИЧ ШЛЮХИ ТВИЧ ШЛЮХИ СТРИМЕРЫ СТРИМЕРЫ ДОНАТ СТРИМ ВЛОГ ЮТУБ ТВИЧТВИЧ ШЛЮХИ ТВИЧ ШЛЮХИ СТРИМЕРЫ СТРИМЕРЫ ДОНАТ СТРИМ ВЛОГ ЮТУБ ТВИЧТВИЧ ШЛЮХИ ТВИЧ ШЛЮХИ СТРИМЕРЫ СТРИМЕРЫ ДОНАТ СТРИМ ВЛОГ ЮТУБ ТВИЧТВИЧ ШЛЮХИ ТВИЧ ШЛЮХИ СТРИМЕРЫ СТРИМЕРЫ ДОНАТ СТРИМ ВЛОГ ЮТУБ ТВИЧТВИЧ ШЛЮХИ ТВИЧ ШЛЮХИ СТРИМЕРЫ СТРИМЕРЫ ДОНАТ СТРИМ ВЛОГ ЮТУБ ТВИЧТВИЧ ШЛЮХИ ТВИЧ ШЛЮХИ СТРИМЕРЫ СТРИМЕРЫ ДОНАТ СТРИМ ВЛОГ ЮТУБ ТВИЧТВИЧ ШЛЮХИ ТВИЧ ШЛЮХИ СТРИМЕРЫ СТРИМЕРЫ ДОНАТ СТРИМ ВЛОГ ЮТУБ ТВИЧТВИЧ ШЛЮХИ ТВИЧ ШЛЮХИ СТРИМЕРЫ СТРИМЕРЫ ДОНАТ СТРИМ ВЛОГ ЮТУБ ТВИЧТВИЧ ШЛЮХИ ТВИЧ ШЛЮХИ СТРИМЕРЫ СТРИМЕРЫ ДОНАТ СТРИМ ВЛОГ ЮТУБ ТВИЧ\\n Патимейкер вышел же.', 1.0)\n",
      "('Щас онлайн видео _boomboom_ _boomboom_Друзья пользователя | Серега Морозов | Тимофей Михеев-Бельский | Евгения Доброва | Екатерина Алексеева | Юленька Михайлова | Алёна Страшинская | Даша Провоторова | Ольга Федоренко | Юлия Ягофарова | Екатерина Гарипова | Наталья Кладова | Антон Соколов | Серёжа Чудновец | Зофф Зайков | Наталия Савиных | Иринка Ставцева | Милана Гросс | Ника Шайхметова | Нинуся Савинцева | Анастасия Косенко | Лизавета Захарова | Валентина Колотаева | Александр Надеин | Григорий Бананов | Екатерина Меньшенина | Александр Машкин | Сергей Обласов | Илья Доможиров | Победа Победовна | Александр Плужников | Анюточка Кравцова | Валерия Хватова | Валентина Семёнова | Юлия Валеева | Виктор Абысов | Палыч Зимокос | Татьяна Пантелеева | Макс Буланов | Екатерина Гатауллина | Константин Лященко | Екатерина Собко | Таня Абысова | Люда Белоцерковец | Денис Селютин | Леон Измайлов | Гияс Мамедов | Егор Овсянников | Иван Пашков | Светлана Виленская | Анастасия Семёнова | Сергей Трошкин | Ваня Лысенко | Наталья Пастухова | Любовь Насырова | Наталья Дегтярёва | Анастасия Абнасырова | Александр Ёлчев | Владимир Федоренко | Ольга Сальникова | Марианна Панферова | Tanja Pfund | Надежда Глазкова | Денис Плыгун | Павел Лемешко | Вова Ярушев | Александра Василевская | Даша Кирьянова | Наталья Ермолаева | Анна Мануйлова | Гриша Кузнецов | Денис Маринич | Арина Троилова | Юлия Хамбикова | Наталья Илинзер | Таня Тарасова | Виктория Рябова | Игорь Молчанов | Иван Щиголев | Павел Мерц | Мария Мотовилова | Цица Гвилия | Александр Подседов | Анастасия Леонидова | Наталья Кукова | Наталья Трифонова | Руслан Семченко | Антон Панферов | Екатерина Майская | Сергей Шиков | Василий Бухтояров | Дарья Плотникова | Евгения Ларина | Марина Астапова | Александр Чепынин | Егор Соколов | Tanja Pfund | Надежда Масунова | Виктор Еремеев | Надежда Фролова | Николай Дрожжин | Анна Бандер | Павел Ларин | Наталия Ложкина | Юлия Мурзина | Ольга Шишко | Таня Король | Руслан Хасанов | Максим Король | Василий Ларин | Василий Бухтояров | Ольга Бабкина | Алексей Бабков | Анастасия Петрова | Катеринка Дусенова | Stiff Letto | Максим Арсланов | Иван Ложкин | Михаил Кирьянов | Анастасия Шек | Евгения Леонидова | Вероника Парамонова | Марина Астапова | Михаил Кирьянов | Светлана Василевская | Светлана Малафей | Анастасия Леонидова | Игорь Молчанов | Евгения Леонидова | Наталья Василевская | Надежда Фролова | Надежда Фролова | Наталья Облачная\\n Есть дебилы, которые и музыку в айтюнсах покупают, зачем о них вспоминать.', 1.0)\n",
      "('ТЫ НЕ ТРАП НЕ ВЕДИСЬ НА ЕГО ТОЛСТЫЙ ТРОЛЛИНГ\\n  МАМКУ ТВОЮ ЗАРЕПОРТИЛ ПИДОР БЛЯТЬ ЛАТЫШСКИЙ, КАКОГО ГОВНА ТЫ СЮДА ВОБЩЕ ВКАТИЛСЯ ХУИЛА ПИДОРСКАЯ, ТЫ НАРМАЛЬНЫЙ ВАЩЕ БЛИДИНА ОБДРИСТАНАЯ, ТВОЮ ГОЛОВУ ОДЕВАЛ НА ХУЙ И ПОСЛЕ ОТДАЛ ВСЕЙ ДОСКЕ НА ВАФЕЛ ПРОЦЕДУРЫ ХУЯНСКИЙ ПИДОРСКИЙ ХУЙ БЛЯТЬ МРАЗБ ВЫ БЕСИТЕ МРАЩИ\\n  в общем-то в чём-то мб прававроде как чем старше, тем страшнее выглядят трапы.', 1.0)\n"
     ]
    },
    {
     "name": "stdout",
     "output_type": "stream",
     "text": [
      "('Ты дебил тупой блять читай пуе хуесосина прежде чем лезть, на профиле запросто может появиться напряжение из-за поврежденой изоляции кабеля, сука блять как же я тебя не навижу тупой урод и всех вас таких которые нихуя не знают но лезут блять и свое мнение выпячивают как будто и блять они николы теслы ебаные\\n >На бтонном потолке запрещено гофру использоватьоткуда ты такой вылез умник блять.', 1.0)\n",
      "('htmПрошлые треды: — Тред №1 — Тред №2 — Тред №3 — Тред №4 — Тред №5 — Тред №6 — Тред №7 — Тред №8 — Тред №9 — Тред №10 — Тред №11 — Тред №12 — Тред №13 — Тред №14 — Тред №15 — Тред №16 — Тред №17 — Тред №18 — Тред №19 — Тред №20 — Тред №21 — Тред №22 — Тред №23 — Тред №24 — Тред №25 — Тред №26 — Тред №27 — Тред №28 — Тред №29 — Тред №30 — Тред №31 — Тред №32 — Тред №33 — Тред №34 — Тред №35 — Тред №36 — Тред №37 — Тред №38 — Тред №39 — Тред №40 — Тред №41 — Тред №43 — Тред №44 — Тред №45 — Тред №46 — Тред №47\\n Вы когда остановитесь?', 1.0)\n"
     ]
    }
   ],
   "source": [
    "for sent in top_toxic_bayes_count:\n",
    "    print(sent)"
   ]
  },
  {
   "cell_type": "markdown",
   "metadata": {},
   "source": [
    "<b>Вывод</b>: Среди 10 самых токсичных предложений из корпуса dvach, предсказанных Пайплайном A (логистическая регрессия + Tf-Idf Vectorizer) и Пайплайном B (Multinomial Naive Bayes + Count Vectorizer) ни одно предложение не совпало. Пайплайн A присваивал наибольшую вероятность коротким предложениям, полностью состоящим (за исключением служебных слов, нейтрализованных за счёт idf) из оскорбительных и нецензурных слов, а Пайплайн B - длиннымм аномальным текстам (в т.ч. получившимся при парсинге разметки сайта), содержащим оскорбительную/нецензурную лексику. Все предложения, распознанных Пайплайнами A и B как токсиные таковыми и являются, однако предложения, выделенные Пайплайном B содержат много нетоксичной информации, выделенной из разметки страниц сайта."
   ]
  },
  {
   "cell_type": "code",
   "execution_count": null,
   "metadata": {},
   "outputs": [],
   "source": []
  }
 ],
 "metadata": {
  "kernelspec": {
   "display_name": "Python 3",
   "language": "python",
   "name": "python3"
  },
  "language_info": {
   "codemirror_mode": {
    "name": "ipython",
    "version": 3
   },
   "file_extension": ".py",
   "mimetype": "text/x-python",
   "name": "python",
   "nbconvert_exporter": "python",
   "pygments_lexer": "ipython3",
   "version": "3.7.3"
  }
 },
 "nbformat": 4,
 "nbformat_minor": 4
}
